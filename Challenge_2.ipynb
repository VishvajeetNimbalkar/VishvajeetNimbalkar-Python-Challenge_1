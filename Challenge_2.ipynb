{
 "cells": [
  {
   "cell_type": "markdown",
   "id": "c113acfe",
   "metadata": {},
   "source": [
    "# 1. print the data type of variable x"
   ]
  },
  {
   "cell_type": "code",
   "execution_count": 1,
   "id": "1abfbfed",
   "metadata": {},
   "outputs": [
    {
     "data": {
      "text/plain": [
       "int"
      ]
     },
     "execution_count": 1,
     "metadata": {},
     "output_type": "execute_result"
    }
   ],
   "source": [
    "X=6\n",
    "type(X)"
   ]
  },
  {
   "cell_type": "markdown",
   "id": "21cb492e",
   "metadata": {},
   "source": [
    "### 2. what will be datatype of following variable, mention answer in comments"
   ]
  },
  {
   "cell_type": "code",
   "execution_count": 2,
   "id": "1a777fab",
   "metadata": {},
   "outputs": [],
   "source": [
    "var = 'VisioNLP'  ###Str"
   ]
  },
  {
   "cell_type": "markdown",
   "id": "76218133",
   "metadata": {},
   "source": [
    "### 3. Insert the correct syntax to convert x into a int data type."
   ]
  },
  {
   "cell_type": "code",
   "execution_count": 3,
   "id": "bc0c6ea9",
   "metadata": {},
   "outputs": [
    {
     "data": {
      "text/plain": [
       "10"
      ]
     },
     "execution_count": 3,
     "metadata": {},
     "output_type": "execute_result"
    }
   ],
   "source": [
    "x = 10.44\n",
    "int(x)\n"
   ]
  },
  {
   "cell_type": "markdown",
   "id": "12654625",
   "metadata": {},
   "source": [
    "### 4. Convert x into string"
   ]
  },
  {
   "cell_type": "code",
   "execution_count": 4,
   "id": "d9b9f2f8",
   "metadata": {},
   "outputs": [
    {
     "data": {
      "text/plain": [
       "'65'"
      ]
     },
     "execution_count": 4,
     "metadata": {},
     "output_type": "execute_result"
    }
   ],
   "source": [
    "x = 65\n",
    "str(x)"
   ]
  },
  {
   "cell_type": "markdown",
   "id": "d0d539fa",
   "metadata": {},
   "source": [
    "### 5. Multipy 10 with 5, and print the result."
   ]
  },
  {
   "cell_type": "code",
   "execution_count": 5,
   "id": "496fc90b",
   "metadata": {},
   "outputs": [
    {
     "data": {
      "text/plain": [
       "50"
      ]
     },
     "execution_count": 5,
     "metadata": {},
     "output_type": "execute_result"
    }
   ],
   "source": [
    "10*5\n"
   ]
  },
  {
   "cell_type": "markdown",
   "id": "c54cdbea",
   "metadata": {},
   "source": [
    "### 6. Use assignment operator and Perform Multiplication x and y values and store it in x"
   ]
  },
  {
   "cell_type": "code",
   "execution_count": 9,
   "id": "51a460ab",
   "metadata": {},
   "outputs": [
    {
     "name": "stdout",
     "output_type": "stream",
     "text": [
      "x:  50\n"
     ]
    }
   ],
   "source": [
    "x=10\n",
    "y=5\n",
    "x*=y\n",
    "print('x: ', x)"
   ]
  },
  {
   "cell_type": "markdown",
   "id": "75c5425b",
   "metadata": {},
   "source": [
    "### 7. Correct the following statement"
   ]
  },
  {
   "cell_type": "code",
   "execution_count": 10,
   "id": "46399e9d",
   "metadata": {},
   "outputs": [],
   "source": [
    "x = x + 6 > 3"
   ]
  },
  {
   "cell_type": "code",
   "execution_count": 11,
   "id": "35b6a8e8",
   "metadata": {},
   "outputs": [
    {
     "data": {
      "text/plain": [
       "True"
      ]
     },
     "execution_count": 11,
     "metadata": {},
     "output_type": "execute_result"
    }
   ],
   "source": [
    "x"
   ]
  },
  {
   "cell_type": "markdown",
   "id": "a5ffd960",
   "metadata": {},
   "source": [
    "### 8. Correct the following line"
   ]
  },
  {
   "cell_type": "code",
   "execution_count": 12,
   "id": "0011206a",
   "metadata": {},
   "outputs": [
    {
     "data": {
      "text/plain": [
       "True"
      ]
     },
     "execution_count": 12,
     "metadata": {},
     "output_type": "execute_result"
    }
   ],
   "source": [
    "x = 9\n",
    "y = 6\n",
    "\n",
    "x >= y"
   ]
  },
  {
   "cell_type": "markdown",
   "id": "6535996b",
   "metadata": {},
   "source": [
    "### 9. list out different data types"
   ]
  },
  {
   "cell_type": "markdown",
   "id": "60bd7dfe",
   "metadata": {},
   "source": [
    "'str'\n",
    "'int'\n",
    "'float'\n",
    "'boolean'"
   ]
  },
  {
   "cell_type": "markdown",
   "id": "41256ae5",
   "metadata": {},
   "source": [
    "### 10. Add and display/print few examples of your choice of arithmetic operations"
   ]
  },
  {
   "cell_type": "code",
   "execution_count": 18,
   "id": "b8c39790",
   "metadata": {},
   "outputs": [
    {
     "name": "stdout",
     "output_type": "stream",
     "text": [
      "1\n"
     ]
    }
   ],
   "source": [
    "print(1+0)"
   ]
  },
  {
   "cell_type": "code",
   "execution_count": 15,
   "id": "2ddfc048",
   "metadata": {},
   "outputs": [
    {
     "name": "stdout",
     "output_type": "stream",
     "text": [
      "1\n"
     ]
    }
   ],
   "source": [
    "print(1*1)"
   ]
  },
  {
   "cell_type": "code",
   "execution_count": 16,
   "id": "b63fcd6e",
   "metadata": {},
   "outputs": [
    {
     "name": "stdout",
     "output_type": "stream",
     "text": [
      "1.0\n"
     ]
    }
   ],
   "source": [
    "print(1/1)"
   ]
  },
  {
   "cell_type": "code",
   "execution_count": 17,
   "id": "d640f489",
   "metadata": {},
   "outputs": [
    {
     "name": "stdout",
     "output_type": "stream",
     "text": [
      "1\n"
     ]
    }
   ],
   "source": [
    "print(2-1)"
   ]
  },
  {
   "cell_type": "code",
   "execution_count": 22,
   "id": "9ac2e097",
   "metadata": {},
   "outputs": [
    {
     "name": "stdout",
     "output_type": "stream",
     "text": [
      "1\n"
     ]
    }
   ],
   "source": [
    "print(3%2)"
   ]
  },
  {
   "cell_type": "code",
   "execution_count": 23,
   "id": "9d81b0d7",
   "metadata": {},
   "outputs": [
    {
     "name": "stdout",
     "output_type": "stream",
     "text": [
      "1\n"
     ]
    }
   ],
   "source": [
    "print(1**1)"
   ]
  },
  {
   "cell_type": "code",
   "execution_count": 25,
   "id": "b304cdeb",
   "metadata": {},
   "outputs": [
    {
     "name": "stdout",
     "output_type": "stream",
     "text": [
      "1\n"
     ]
    }
   ],
   "source": [
    "print(4//3)"
   ]
  }
 ],
 "metadata": {
  "kernelspec": {
   "display_name": "Python 3 (ipykernel)",
   "language": "python",
   "name": "python3"
  },
  "language_info": {
   "codemirror_mode": {
    "name": "ipython",
    "version": 3
   },
   "file_extension": ".py",
   "mimetype": "text/x-python",
   "name": "python",
   "nbconvert_exporter": "python",
   "pygments_lexer": "ipython3",
   "version": "3.9.12"
  }
 },
 "nbformat": 4,
 "nbformat_minor": 5
}
